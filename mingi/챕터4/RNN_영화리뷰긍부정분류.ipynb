{
 "cells": [
  {
   "cell_type": "code",
   "execution_count": 1,
   "metadata": {},
   "outputs": [
    {
     "data": {
      "text/plain": [
       "<torch._C.Generator at 0x2aa7e51a810>"
      ]
     },
     "execution_count": 1,
     "metadata": {},
     "output_type": "execute_result"
    }
   ],
   "source": [
    "import os\n",
    "import time\n",
    "import numpy as np\n",
    "from tqdm import tqdm\n",
    "from string import punctuation\n",
    "from collections import Counter\n",
    "import matplotlib.pyplot as plt\n",
    "\n",
    "import torch\n",
    "import torch.nn as nn\n",
    "import torch.optim as optim\n",
    "from torch.utils.data import DataLoader, TensorDataset\n",
    "device = torch.device('cuda' if torch.cuda.is_available() else 'cpu')\n",
    "torch.manual_seed(123)  # 아래 출력은 난수 생성기 초기화로인해 출력되는 것임."
   ]
  },
  {
   "cell_type": "markdown",
   "metadata": {},
   "source": [
    "# 주제 : IDMB 영화 리뷰 데이터 긍부정 분석\n",
    "    긍정 - label : 1 / 부정 - label : 0\n",
    "\n",
    "[IDMV 영화 리뷰 데이터 다운 링크](https://ai.stanford.edu/~amaas/data/sentiment/)\n",
    "\n",
    "1. 링크에서 데이터 다운 후 압축 해제\n",
    "\n",
    "2. 작업중인 디렉토리에 aclIMDB폴더 이동"
   ]
  },
  {
   "cell_type": "markdown",
   "metadata": {},
   "source": [
    "# 데이터 전처리"
   ]
  },
  {
   "cell_type": "code",
   "execution_count": 2,
   "metadata": {},
   "outputs": [
    {
     "name": "stderr",
     "output_type": "stream",
     "text": [
      "  0%|          | 0/12500 [00:00<?, ?it/s]"
     ]
    },
    {
     "name": "stderr",
     "output_type": "stream",
     "text": [
      "100%|██████████| 12500/12500 [01:59<00:00, 104.78it/s]\n",
      "100%|██████████| 12500/12500 [01:53<00:00, 109.91it/s]"
     ]
    },
    {
     "name": "stdout",
     "output_type": "stream",
     "text": [
      "Number of reviews : 25000\n",
      "Number of labels : 25000\n"
     ]
    },
    {
     "name": "stderr",
     "output_type": "stream",
     "text": [
      "\n"
     ]
    }
   ],
   "source": [
    "# 리뷰데이터와 레이블 값 저장 (둘이 같은 index)\n",
    "review_list = []\n",
    "label_list = []\n",
    "for label in ['pos', 'neg']:\n",
    "    for fname in tqdm(os.listdir(f'./aclImdb/train/{label}/')):\n",
    "        if 'txt' not in fname:\n",
    "            continue\n",
    "        with open(os.path.join(f'./aclImdb/train/{label}/', fname), encoding=\"utf8\") as f:\n",
    "            review_list += [f.read()]   # 파일.read() 텍스트 파일 읽는 함수 / 만약 텍스트 파일이 여러줄이라면 readline을 for문 돌려야 함\n",
    "            label_list += [label]\n",
    "print ('Number of reviews :', len(review_list))\n",
    "print ('Number of labels :', len(label_list))"
   ]
  },
  {
   "cell_type": "code",
   "execution_count": 3,
   "metadata": {},
   "outputs": [
    {
     "name": "stdout",
     "output_type": "stream",
     "text": [
      "punctuation의 데이터형식:<class 'str'> , 출력:!\"#$%&'()*+,-./:;<=>?@[\\]^_`{|}~\n",
      "\n"
     ]
    },
    {
     "name": "stderr",
     "output_type": "stream",
     "text": [
      "100%|██████████| 25000/25000 [00:01<00:00, 14281.95it/s]\n"
     ]
    },
    {
     "name": "stdout",
     "output_type": "stream",
     "text": [
      "사용된 단어 개수(중복o) : 5821814개\n",
      "[('the', 334691), ('and', 162228), ('a', 161940), ('of', 145326), ('to', 135042), ('is', 106855), ('in', 93028), ('it', 77099), ('i', 75719), ('this', 75190)]\n"
     ]
    }
   ],
   "source": [
    "# 데이터 전처리 - 최종 목적은 데이터에 존재하는 모든 단어를 Counter객체 만들기.\n",
    "\n",
    "# 모든 텍스트 소문자로 변경\n",
    "review_list = [review.lower() for review in review_list]    \n",
    "\n",
    "# punctuation은 파이썬 string모델에 포함된 문자열 상수로 모든 구두점 문자를 가지고 있다.\n",
    "# from string import punctuation\n",
    "print(f'punctuation의 데이터형식:{type(punctuation)} , 출력:{punctuation}',end='\\n\\n')\n",
    "review_list = [''.join([letter for letter in review if letter not in punctuation]) for review in tqdm(review_list)]\n",
    "\n",
    "# 모든 문자를 하나의 스트링으로 join\n",
    "reviews_blob = ' '.join(review_list)\n",
    "\n",
    "# 공백기준 문자 나누기\n",
    "review_words = reviews_blob.split()\n",
    "print(f'사용된 단어 개수(중복o) : {len(review_words)}개')\n",
    "\n",
    "# Counter 객체 사용하여 빈도 수 구하기\n",
    "count_words = Counter(review_words)\n",
    "\n",
    "# 빈도 수 기준 내림차순 정렬\n",
    "total_review_words = len(review_words)\n",
    "sorted_review_words = count_words.most_common(total_review_words)\n",
    "\n",
    "print(sorted_review_words[:10])"
   ]
  },
  {
   "cell_type": "code",
   "execution_count": 4,
   "metadata": {},
   "outputs": [
    {
     "name": "stdout",
     "output_type": "stream",
     "text": [
      "[('the', 1), ('and', 2), ('a', 3), ('of', 4), ('to', 5), ('is', 6), ('in', 7), ('it', 8), ('i', 9), ('this', 10)]\n"
     ]
    }
   ],
   "source": [
    "# word to idx 변환 딕셔너리 생성\n",
    "vocab_to_token = {word:idx+1 for idx, (word, count) in enumerate(sorted_review_words)}\n",
    "print(list(vocab_to_token.items())[:10])\n",
    "\n",
    "# 0번 인덱스는 패딩 토큰으로 비워둠"
   ]
  },
  {
   "cell_type": "code",
   "execution_count": 5,
   "metadata": {},
   "outputs": [
    {
     "name": "stdout",
     "output_type": "stream",
     "text": [
      "bromwell high is a c\n",
      "[22572, 321, 6, 3, 1077, 219, 8, 2082, 30, 1, 166, 61, 14, 46, 80, 5581, 42, 399, 118, 135]\n",
      "리뷰 개수 : 25000\n"
     ]
    }
   ],
   "source": [
    "# 모든 리뷰 정수화\n",
    "\n",
    "reviews_tokenized = []\n",
    "for review in review_list:\n",
    "    word_to_token = [vocab_to_token[word] for word in review.split()]   # 위에서 정의한 딕셔너리로 해당 word에 맞는 정수로 변환\n",
    "    reviews_tokenized.append(word_to_token)\n",
    "print(review_list[0][:20])\n",
    "print (reviews_tokenized[0][:20])\n",
    "print(f'리뷰 개수 : {len(reviews_tokenized)}')"
   ]
  },
  {
   "cell_type": "code",
   "execution_count": 6,
   "metadata": {},
   "outputs": [],
   "source": [
    "# 긍/부정 레이블 정수화\n",
    "# 긍정 : 1 / 부정 : 0\n",
    "encoded_label_list = [1 if label =='pos' else 0 for label in label_list]\n",
    "\n",
    "# 각 리뷰 데이터의 단어 개수 저장 (이유 : 길이가 0인 데이터는 제외 + 패딩할 때 사용)\n",
    "reviews_len = [len(review) for review in reviews_tokenized]\n",
    "\n",
    "# 단어 수가 0개는 제외\n",
    "reviews_tokenized = [reviews_tokenized[i] for i, l in enumerate(reviews_len) if l>0 ]\n",
    "encoded_label_list = np.array([encoded_label_list[i] for i, l in enumerate(reviews_len) if l> 0 ], dtype='float32') "
   ]
  },
  {
   "cell_type": "code",
   "execution_count": 7,
   "metadata": {},
   "outputs": [
    {
     "data": {
      "image/png": "[encoded data removed]",
      "text/plain": [
       "<Figure size 640x480 with 1 Axes>"
      ]
     },
     "metadata": {},
     "output_type": "display_data"
    }
   ],
   "source": [
    "# 리뷰당 단어 개수 시각화\n",
    "def pad_sequence(reviews_tokenized, sequence_length):\n",
    "    ''' \n",
    "        정해준 시퀀스 길이에 맞게 패딩하는 함수\n",
    "        짧으면 앞에 0추가\n",
    "        길면 짜름\n",
    "    '''\n",
    "\n",
    "    # 0배열 생성 shape(데이터 개수,512)\n",
    "    padded_reviews = np.zeros((len(reviews_tokenized), sequence_length), dtype = int)\n",
    "    \n",
    "    for idx, review in enumerate(reviews_tokenized):\n",
    "        review_len = len(review)\n",
    "        \n",
    "        if review_len <= sequence_length:\n",
    "            zeroes = list(np.zeros(sequence_length-review_len))\n",
    "            new_sequence = zeroes+review    # 패딩+단어\n",
    "        elif review_len > sequence_length:\n",
    "            new_sequence = review[0:sequence_length]    # 길이에 짜름\n",
    "        \n",
    "        padded_reviews[idx,:] = np.array(new_sequence)\n",
    "    \n",
    "    return padded_reviews\n",
    "\n",
    "sequence_length = 512\n",
    "padded_reviews = pad_sequence(reviews_tokenized=reviews_tokenized, sequence_length=sequence_length) # Numpy 형태\n",
    "\n",
    "plt.hist(reviews_len);"
   ]
  },
  {
   "cell_type": "code",
   "execution_count": 8,
   "metadata": {},
   "outputs": [],
   "source": [
    "# train : test = 0.75 : 0.25 나누기\n",
    "\n",
    "\n",
    "#### 추가 ################\n",
    "np.random.seed(42)\n",
    "indices = np.arange(len(padded_reviews))\n",
    "np.random.shuffle(indices)\n",
    "\n",
    "# 랜덤하게 섞인 인덱스를 사용하여 데이터와 라벨을 섞음\n",
    "padded_reviews = padded_reviews[indices]\n",
    "encoded_label_list = encoded_label_list[indices]\n",
    "\n",
    "train_val_split = 0.75\n",
    "train_X = padded_reviews[:int(train_val_split*len(padded_reviews))]\n",
    "train_y = encoded_label_list[:int(train_val_split*len(padded_reviews))]\n",
    "validation_X = padded_reviews[int(train_val_split*len(padded_reviews)):]\n",
    "validation_y = encoded_label_list[int(train_val_split*len(padded_reviews)):]"
   ]
  },
  {
   "cell_type": "code",
   "execution_count": 9,
   "metadata": {},
   "outputs": [],
   "source": [
    "## If while training, you get a runtime error that says: \"RuntimeError: Expected tensor for argument #1 'indices' to have scalar type Long\".\n",
    "## simply uncomment run the following lines of code additionally\n",
    "# train_X = train_X.astype('int64')\n",
    "# train_y = train_y.astype('int64')\n",
    "# validation_X = validation_X.astype('int64')\n",
    "# validation_y = validation_y.astype('int64')"
   ]
  },
  {
   "cell_type": "code",
   "execution_count": 10,
   "metadata": {},
   "outputs": [],
   "source": [
    "# 데이터셋 생성 : x,y 순서로 넣는다.\n",
    "train_dataset = TensorDataset(torch.from_numpy(train_X).to(device), torch.from_numpy(train_y).to(device))\n",
    "validation_dataset = TensorDataset(torch.from_numpy(validation_X).to(device), torch.from_numpy(validation_y).to(device))\n",
    "\n",
    "\n",
    "# 데이터 로더 생성 : x,y 순서로 나옴.\n",
    "batch_size = 32\n",
    "train_dataloader = DataLoader(train_dataset, batch_size=batch_size, shuffle=True)\n",
    "validation_dataloader = DataLoader(validation_dataset, batch_size=batch_size, shuffle=True)"
   ]
  },
  {
   "cell_type": "code",
   "execution_count": 11,
   "metadata": {},
   "outputs": [
    {
     "name": "stdout",
     "output_type": "stream",
     "text": [
      "Example Input size:  torch.Size([32, 512])\n",
      "Example Input:\n",
      " tensor([[    0,     0,     0,  ...,     2,   119,   376],\n",
      "        [    0,     0,     0,  ...,   184,    22,   403],\n",
      "        [   50,     3,    17,  ...,     3, 39795,     4],\n",
      "        ...,\n",
      "        [    0,     0,     0,  ...,     3, 28294,   826],\n",
      "        [    0,     0,     0,  ...,    21,     5,  2284],\n",
      "        [    0,     0,     0,  ...,    45,     4,   757]], device='cuda:0',\n",
      "       dtype=torch.int32)\n",
      "\n",
      "Example Output size:  torch.Size([32])\n",
      "Example Output:\n",
      " tensor([1., 1., 0., 0., 0., 1., 0., 0., 0., 1., 0., 0., 0., 1., 1., 1., 0., 1.,\n",
      "        0., 1., 1., 0., 0., 1., 0., 1., 1., 1., 1., 1., 0., 1.],\n",
      "       device='cuda:0')\n"
     ]
    }
   ],
   "source": [
    "# 데이터 로더 데이터 양식 : x , y\n",
    "# x : (Batch, Sequence_length)\n",
    "# y : (Batch)\n",
    "\n",
    "\n",
    "train_data_iter = iter(train_dataloader)\n",
    "X_example, y_example = next(train_data_iter)   # 기존코드 train_data_iter.next()\n",
    "print('Example Input size: ', X_example.size()) # batch_size, seq_length\n",
    "print('Example Input:\\n', X_example)\n",
    "print()\n",
    "print('Example Output size: ', y_example.size()) # batch_size\n",
    "print('Example Output:\\n', y_example)"
   ]
  },
  {
   "cell_type": "markdown",
   "metadata": {},
   "source": [
    "# 모델 정의 - RNN"
   ]
  },
  {
   "cell_type": "code",
   "execution_count": 12,
   "metadata": {},
   "outputs": [],
   "source": [
    "# RNN 모델 정의 - 단층 RNN\n",
    "class RNN(nn.Module):\n",
    "    def __init__(self, input_dimension, embedding_dimension, hidden_dimension, output_dimension):\n",
    "        \"\"\"\n",
    "            input_dimension : vocab수 + 1 , 네이밍이 헷갈릴만 함.\n",
    "            embedding_dimension : word를 표현하는 vector의 차원. 100차원으로 사용\n",
    "            hidden_dimension : RNN 셀의 hidden_sate 값의 차원. 즉, 리뷰 데이터를 표현하는 차원. 32차원 사용\n",
    "            output_dimension : 1 긍정 vs 부정 분류이므로 1 or 0사용\n",
    "        \"\"\"\n",
    "        super().__init__()\n",
    "        # word -> embedding_vector변환\n",
    "        self.embedding_layer = nn.Embedding(input_dimension, embedding_dimension)\n",
    "\n",
    "        # RNN레이어 생성. 옜날엔 직접 for문 돌려야했는데 세상 좋아졌..\n",
    "        # 활성화 함수 tanh사용(default)\n",
    "        self.rnn_layer = nn.RNN(embedding_dimension, hidden_dimension, num_layers=1)  \n",
    "\n",
    "        # Fully connected layer. 즉, 분류기. 32차원->1차원\n",
    "        self.fc_layer = nn.Linear(hidden_dimension, output_dimension)\n",
    "        \n",
    "    def forward(self, sequence):\n",
    "        # sequence shape = (sequence_length, batch_size) ===> 원랜 (B,S)였음.\n",
    "        embedding = self.embedding_layer(sequence)  \n",
    "\n",
    "        # embedding shape = [sequence_length, batch_size, embedding_dimension]\n",
    "\n",
    "        #           RNN 모델 통과 후\n",
    "\n",
    "        # output shape = [sequence_length, batch_size, hidden_dimension]    (sequence_length번의 output의 집합)\n",
    "        # hidden_state shape = [1, batch_size, hidden_dimension]            (sequence_length의 문장을 하나로 표현)\n",
    "\n",
    "        output, hidden_state = self.rnn_layer(embedding)    \n",
    "\n",
    "    \n",
    "        final_output = self.fc_layer(hidden_state[-1,:,:].squeeze(0))   # squeeze(0)으로 (Batch,Hidden D)로 변경\n",
    "        return final_output # (Batch,1)\n",
    "    \n",
    "        # PS. 만약 RNN레이어 생성시 batch first=True선언시 output은 (B,S,Embedding V) -> (B,S,Hidden V)으로 출력 됨.\n",
    "    \n",
    "input_dimension = len(vocab_to_token)+1 # +1 to account for padding\n",
    "embedding_dimension = 100\n",
    "hidden_dimension = 32\n",
    "output_dimension = 1\n",
    "\n",
    "rnn_model = RNN(input_dimension, embedding_dimension, hidden_dimension, output_dimension)\n",
    "\n",
    "optim = torch.optim.Adam(rnn_model.parameters())\n",
    "loss_func = nn.BCEWithLogitsLoss()\n",
    "\n",
    "# 참고\n",
    "# BCEWithLogitsLoss - 이진분류 손실함수 (sigmoid + BCE)\n",
    "# BCELoss (Binary Cross Entropy) - 이진분류 손실함수 (마지막 레이어가 확률 값으로 변경해야 함)\n",
    "# CrossEntropyLoss - 다중분류 손실함수 (LogSoftmax + NLLLoss)\n",
    "# NLLLoss (Negative Log Likelihood) - 다중분류 손실함수 (마지막 레이어가 확률 값으로 변경해야 함 == 로그 확률로 변환되어 들어가야함)\n",
    "\n",
    "rnn_model = rnn_model.to(device)\n",
    "loss_func = loss_func.to(device)"
   ]
  },
  {
   "attachments": {
    "image-2.png": {
     "image/png": "[encoded data removed]"
    },
    "image-3.png": {
     "image/png": "[encoded data removed]"
    },
    "image.png": {
     "image/png": "[encoded data removed]"
    }
   },
   "cell_type": "markdown",
   "metadata": {},
   "source": [
    "Binary Cross Entropy 수식\n",
    "\n",
    "![image.png](attachment:image.png)\n",
    "\n",
    "Negative Log Likelihood 수식\n",
    "\n",
    "$x_{n,y_n}$ 은 $log x_n$ , $y_n$ = 1인 위의 BCE와 동일( (1-$y_n$)은 0이되어 사라지니까)\n",
    "\n",
    "![image-3.png](attachment:image-3.png)\n",
    "\n",
    "![image-2.png](attachment:image-2.png)\n",
    "\n",
    "즉, NLL은 각 항을 BCE하고 더하거나 평균낸거다!"
   ]
  },
  {
   "cell_type": "code",
   "execution_count": 13,
   "metadata": {},
   "outputs": [],
   "source": [
    "# 예측 정확도 구하는 함수\n",
    "def accuracy_metric(predictions, ground_truth):\n",
    "    \"\"\"\n",
    "    Returns 0-1 accuracy for the given set of predictions and ground truth\n",
    "    \"\"\"\n",
    "    # round predictions to either 0 or 1\n",
    "    rounded_predictions = torch.round(torch.sigmoid(predictions))   # 반올림\n",
    "    success = (rounded_predictions == ground_truth).float() # Tensor 데이터형식 지원 함수\n",
    "    # torch.Tensor([True , True , False]).float() ==> tensor([1., 1., 0.])\n",
    "    accuracy = success.sum() / len(success) # 몇개중에 몇개맞췄다. == 정확도\n",
    "    return accuracy"
   ]
  },
  {
   "cell_type": "code",
   "execution_count": 14,
   "metadata": {},
   "outputs": [],
   "source": [
    "# 훈련 함수\n",
    "def train(model, dataloader, optim, loss_func):\n",
    "    loss = 0\n",
    "    accuracy = 0\n",
    "    model.train()\n",
    "    \n",
    "    for sequence, sentiment in dataloader:\n",
    "        optim.zero_grad()     \n",
    "\n",
    "        #S.T는 위의 RNN 모델의 batch first옵션이 False라서 배열 전치.\n",
    "        # (32,512) -> (512,32)\n",
    "        preds = model(sequence.T).squeeze()\n",
    "        \n",
    "        loss_curr = loss_func(preds, sentiment) \n",
    "        accuracy_curr = accuracy_metric(preds, sentiment)\n",
    "        \n",
    "        loss_curr.backward()\n",
    "        optim.step()\n",
    "        \n",
    "        loss += loss_curr.item()\n",
    "        accuracy += accuracy_curr.item()\n",
    "        \n",
    "    return loss/len(dataloader), accuracy/len(dataloader)"
   ]
  },
  {
   "cell_type": "code",
   "execution_count": 15,
   "metadata": {},
   "outputs": [],
   "source": [
    "# 검증 함수 (가중치 업데이트 X)\n",
    "def validate(model, dataloader, loss_func):\n",
    "    loss = 0\n",
    "    accuracy = 0\n",
    "    model.eval()\n",
    "    \n",
    "    with torch.no_grad():\n",
    "        for sequence, sentiment in dataloader:\n",
    "            \n",
    "            preds = model(sequence.T).squeeze()\n",
    "            \n",
    "            loss_curr = loss_func(preds, sentiment)   \n",
    "            accuracy_curr = accuracy_metric(preds, sentiment)\n",
    "\n",
    "            loss += loss_curr.item()\n",
    "            accuracy += accuracy_curr.item()\n",
    "        \n",
    "    return loss/len(dataloader), accuracy/len(dataloader)"
   ]
  },
  {
   "cell_type": "code",
   "execution_count": 16,
   "metadata": {},
   "outputs": [
    {
     "name": "stdout",
     "output_type": "stream",
     "text": [
      "epoch number: 1 | time elapsed: 4.602057456970215s\n",
      "training loss: 0.675 | training accuracy: 56.49%\n",
      "validation loss: 0.646 |  validation accuracy: 61.51%\n",
      "\n",
      "epoch number: 2 | time elapsed: 3.990135431289673s\n",
      "training loss: 0.582 | training accuracy: 69.43%\n",
      "validation loss: 0.578 |  validation accuracy: 72.06%\n",
      "\n",
      "epoch number: 3 | time elapsed: 3.830918073654175s\n",
      "training loss: 0.471 | training accuracy: 78.35%\n",
      "validation loss: 0.542 |  validation accuracy: 74.96%\n",
      "\n",
      "epoch number: 4 | time elapsed: 3.762218952178955s\n",
      "training loss: 0.409 | training accuracy: 82.52%\n",
      "validation loss: 0.558 |  validation accuracy: 74.30%\n",
      "\n",
      "epoch number: 5 | time elapsed: 3.7924656867980957s\n",
      "training loss: 0.416 | training accuracy: 81.26%\n",
      "validation loss: 0.608 |  validation accuracy: 68.42%\n",
      "\n",
      "epoch number: 6 | time elapsed: 3.784950017929077s\n",
      "training loss: 0.354 | training accuracy: 85.29%\n",
      "validation loss: 0.703 |  validation accuracy: 72.02%\n",
      "\n",
      "epoch number: 7 | time elapsed: 3.7459566593170166s\n",
      "training loss: 0.435 | training accuracy: 81.32%\n",
      "validation loss: 0.585 |  validation accuracy: 72.72%\n",
      "\n",
      "epoch number: 8 | time elapsed: 3.763256311416626s\n",
      "training loss: 0.340 | training accuracy: 86.14%\n",
      "validation loss: 0.599 |  validation accuracy: 75.57%\n",
      "\n",
      "epoch number: 9 | time elapsed: 4.010280609130859s\n",
      "training loss: 0.331 | training accuracy: 86.19%\n",
      "validation loss: 0.619 |  validation accuracy: 71.07%\n",
      "\n",
      "epoch number: 10 | time elapsed: 4.535541772842407s\n",
      "training loss: 0.259 | training accuracy: 90.01%\n",
      "validation loss: 0.632 |  validation accuracy: 75.46%\n",
      "\n"
     ]
    }
   ],
   "source": [
    "# 학습시작 \n",
    "num_epochs = 10\n",
    "best_validation_loss = float('inf')\n",
    "\n",
    "for ep in range(num_epochs):\n",
    "\n",
    "    time_start = time.time()\n",
    "    \n",
    "    training_loss, train_accuracy = train(rnn_model, train_dataloader, optim, loss_func)\n",
    "    validation_loss, validation_accuracy = validate(rnn_model, validation_dataloader, loss_func)\n",
    "    \n",
    "    time_end = time.time()\n",
    "    time_delta = time_end - time_start  \n",
    "    \n",
    "    if validation_loss < best_validation_loss:\n",
    "        best_validation_loss = validation_loss\n",
    "        torch.save(rnn_model.state_dict(), 'rnn_model.pt')\n",
    "    \n",
    "    print(f'epoch number: {ep+1} | time elapsed: {time_delta}s')\n",
    "    print(f'training loss: {training_loss:.3f} | training accuracy: {train_accuracy*100:.2f}%')\n",
    "    print(f'validation loss: {validation_loss:.3f} |  validation accuracy: {validation_accuracy*100:.2f}%')\n",
    "    print()"
   ]
  },
  {
   "cell_type": "markdown",
   "metadata": {},
   "source": [
    "데이터 안섞었을 때 train_acc : 95.77% / val_acc : 62.16%\n",
    "\n",
    "섞었을 때 train_acc : 90.01% / val_acc : 75.46%"
   ]
  },
  {
   "cell_type": "code",
   "execution_count": 17,
   "metadata": {},
   "outputs": [],
   "source": [
    "# 추론 코드\n",
    "def sentiment_inference(model, sentence):\n",
    "    model.eval()\n",
    "    \n",
    "    # text transformations\n",
    "    sentence = sentence.lower() # 소문자화\n",
    "    sentence = ''.join([c for c in sentence if c not in punctuation])   # 구두점 제거\n",
    "    tokenized = [vocab_to_token.get(token, 0) for token in sentence.split()]    # 단어 나누고 정수화 / Vocab에 없는 단어 0으로 반환(패딩 == 무시하겠다.)\n",
    "    \n",
    "    # 패딩추가 , 길이가 부족한 경우 앞쪽에 0 추가  / constant 는 상수로 패딩\n",
    "    # (512-len(tokenized), 0)은 앞에 ~ 개 패딩 , 뒤로 0개 패딩 , constant_values은 default 0\n",
    "    tokenized = np.pad(tokenized, (512-len(tokenized), 0), 'constant') \n",
    "    \n",
    "    # model inference\n",
    "    model_input = torch.LongTensor(tokenized).to(device)    #텐서화\n",
    "    model_input = model_input.unsqueeze(1)  # 차원 맞춰주기 , 배치 1\n",
    "    pred = torch.sigmoid(model(model_input))    # 확률 계산 0~1사이로 출력\n",
    "    \n",
    "    return pred.item()"
   ]
  },
  {
   "cell_type": "markdown",
   "metadata": {},
   "source": [
    "[np.pad Docs](https://numpy.org/doc/stable/reference/generated/numpy.pad.html)"
   ]
  },
  {
   "cell_type": "code",
   "execution_count": 18,
   "metadata": {},
   "outputs": [
    {
     "name": "stdout",
     "output_type": "stream",
     "text": [
      "0.09096695482730865\n",
      "0.10027404129505157\n",
      "0.9891836643218994\n",
      "\n",
      "0.9924572706222534\n",
      "0.926382839679718\n",
      "0.9615596532821655\n"
     ]
    }
   ],
   "source": [
    "# 테스트\n",
    "print(sentiment_inference(rnn_model, \"This film is horrible\"))\n",
    "print(sentiment_inference(rnn_model, \"Director tried too hard but this film is bad\"))\n",
    "print(sentiment_inference(rnn_model, \"Decent movie, although could be shorter\"))\n",
    "print()\n",
    "print(sentiment_inference(rnn_model, \"This film will be houseful for weeks\"))\n",
    "print(sentiment_inference(rnn_model, \"I loved the movie, every part of it\"))\n",
    "print(sentiment_inference(rnn_model, \"It was fun, but I was hungry\"))"
   ]
  }
 ],
 "metadata": {
  "kernelspec": {
   "display_name": "dl_venv",
   "language": "python",
   "name": "python3"
  },
  "language_info": {
   "codemirror_mode": {
    "name": "ipython",
    "version": 3
   },
   "file_extension": ".py",
   "mimetype": "text/x-python",
   "name": "python",
   "nbconvert_exporter": "python",
   "pygments_lexer": "ipython3",
   "version": "3.10.9"
  }
 },
 "nbformat": 4,
 "nbformat_minor": 2
}
